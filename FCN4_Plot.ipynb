{
 "cells": [
  {
   "cell_type": "code",
   "execution_count": 1,
   "id": "f9c2eeca",
   "metadata": {},
   "outputs": [],
   "source": [
    "import os\n",
    "import pandas as pd\n",
    "import geopandas as gpd\n",
    "from shapely.geometry import Point"
   ]
  },
  {
   "cell_type": "code",
   "execution_count": 3,
   "id": "cacbfa50",
   "metadata": {
    "scrolled": true
   },
   "outputs": [
    {
     "data": {
      "text/html": [
       "<div>\n",
       "<style scoped>\n",
       "    .dataframe tbody tr th:only-of-type {\n",
       "        vertical-align: middle;\n",
       "    }\n",
       "\n",
       "    .dataframe tbody tr th {\n",
       "        vertical-align: top;\n",
       "    }\n",
       "\n",
       "    .dataframe thead th {\n",
       "        text-align: right;\n",
       "    }\n",
       "</style>\n",
       "<table border=\"1\" class=\"dataframe\">\n",
       "  <thead>\n",
       "    <tr style=\"text-align: right;\">\n",
       "      <th></th>\n",
       "      <th>id</th>\n",
       "      <th>text</th>\n",
       "      <th>userid</th>\n",
       "      <th>lat</th>\n",
       "      <th>lon</th>\n",
       "      <th>created_at</th>\n",
       "    </tr>\n",
       "  </thead>\n",
       "  <tbody>\n",
       "    <tr>\n",
       "      <th>0</th>\n",
       "      <td>1079755309281890305</td>\n",
       "      <td>Quick Pose Before The Vibe @KIZAnairobi @ KIZA...</td>\n",
       "      <td>1.498135e+08</td>\n",
       "      <td>-1.290832</td>\n",
       "      <td>36.782992</td>\n",
       "      <td>2018-12-31 15:05:01+00:00</td>\n",
       "    </tr>\n",
       "    <tr>\n",
       "      <th>1</th>\n",
       "      <td>1079759392138907649</td>\n",
       "      <td>365/365 \\n#whereveryouare #haveagoodone #beTha...</td>\n",
       "      <td>2.081126e+08</td>\n",
       "      <td>-1.283333</td>\n",
       "      <td>36.816667</td>\n",
       "      <td>2018-12-31 15:21:14+00:00</td>\n",
       "    </tr>\n",
       "    <tr>\n",
       "      <th>2</th>\n",
       "      <td>1079760884526972928</td>\n",
       "      <td>Happy 2019 from us @ Nairobi, Kenya https://t....</td>\n",
       "      <td>5.194952e+07</td>\n",
       "      <td>-1.283330</td>\n",
       "      <td>36.816700</td>\n",
       "      <td>2018-12-31 15:27:10+00:00</td>\n",
       "    </tr>\n",
       "    <tr>\n",
       "      <th>3</th>\n",
       "      <td>1079762365644660736</td>\n",
       "      <td>We ride together, We shine together. @ Nairobi...</td>\n",
       "      <td>8.994097e+07</td>\n",
       "      <td>-1.283330</td>\n",
       "      <td>36.816700</td>\n",
       "      <td>2018-12-31 15:33:03+00:00</td>\n",
       "    </tr>\n",
       "    <tr>\n",
       "      <th>4</th>\n",
       "      <td>1079765001454477312</td>\n",
       "      <td>We set to usher in the new year 2019 in style ...</td>\n",
       "      <td>2.729705e+08</td>\n",
       "      <td>-1.269244</td>\n",
       "      <td>36.806866</td>\n",
       "      <td>2018-12-31 15:43:32+00:00</td>\n",
       "    </tr>\n",
       "    <tr>\n",
       "      <th>...</th>\n",
       "      <td>...</td>\n",
       "      <td>...</td>\n",
       "      <td>...</td>\n",
       "      <td>...</td>\n",
       "      <td>...</td>\n",
       "      <td>...</td>\n",
       "    </tr>\n",
       "    <tr>\n",
       "      <th>324613</th>\n",
       "      <td>1542517996685369344</td>\n",
       "      <td>find only Kenyan tea and not a blend. I have o...</td>\n",
       "      <td>1.269599e+18</td>\n",
       "      <td>-1.292066</td>\n",
       "      <td>36.821945</td>\n",
       "      <td>2022-06-30 14:38:43+00:00</td>\n",
       "    </tr>\n",
       "    <tr>\n",
       "      <th>324614</th>\n",
       "      <td>1542517994080702464</td>\n",
       "      <td>✦ [ Sakaja ]\\n\\nQuestion from an American\\n\\nh...</td>\n",
       "      <td>1.269599e+18</td>\n",
       "      <td>-1.292066</td>\n",
       "      <td>36.821945</td>\n",
       "      <td>2022-06-30 14:38:43+00:00</td>\n",
       "    </tr>\n",
       "    <tr>\n",
       "      <th>324615</th>\n",
       "      <td>1542518238566703108</td>\n",
       "      <td>Just posted a photo @ Adams Arcade - Ngong Roa...</td>\n",
       "      <td>1.339887e+18</td>\n",
       "      <td>-1.300567</td>\n",
       "      <td>36.780725</td>\n",
       "      <td>2022-06-30 14:39:41+00:00</td>\n",
       "    </tr>\n",
       "    <tr>\n",
       "      <th>324616</th>\n",
       "      <td>1542521919118770184</td>\n",
       "      <td>You better recognize....\\nOwner: @kemeigabriel...</td>\n",
       "      <td>8.393942e+17</td>\n",
       "      <td>-1.283330</td>\n",
       "      <td>36.816700</td>\n",
       "      <td>2022-06-30 14:54:18+00:00</td>\n",
       "    </tr>\n",
       "    <tr>\n",
       "      <th>324617</th>\n",
       "      <td>1542522901357744128</td>\n",
       "      <td>Just posted a photo @ Runda https://t.co/FhGlb...</td>\n",
       "      <td>1.359535e+18</td>\n",
       "      <td>-1.288986</td>\n",
       "      <td>36.826809</td>\n",
       "      <td>2022-06-30 14:58:13+00:00</td>\n",
       "    </tr>\n",
       "  </tbody>\n",
       "</table>\n",
       "<p>324618 rows × 6 columns</p>\n",
       "</div>"
      ],
      "text/plain": [
       "                         id  \\\n",
       "0       1079755309281890305   \n",
       "1       1079759392138907649   \n",
       "2       1079760884526972928   \n",
       "3       1079762365644660736   \n",
       "4       1079765001454477312   \n",
       "...                     ...   \n",
       "324613  1542517996685369344   \n",
       "324614  1542517994080702464   \n",
       "324615  1542518238566703108   \n",
       "324616  1542521919118770184   \n",
       "324617  1542522901357744128   \n",
       "\n",
       "                                                     text        userid  \\\n",
       "0       Quick Pose Before The Vibe @KIZAnairobi @ KIZA...  1.498135e+08   \n",
       "1       365/365 \\n#whereveryouare #haveagoodone #beTha...  2.081126e+08   \n",
       "2       Happy 2019 from us @ Nairobi, Kenya https://t....  5.194952e+07   \n",
       "3       We ride together, We shine together. @ Nairobi...  8.994097e+07   \n",
       "4       We set to usher in the new year 2019 in style ...  2.729705e+08   \n",
       "...                                                   ...           ...   \n",
       "324613  find only Kenyan tea and not a blend. I have o...  1.269599e+18   \n",
       "324614  ✦ [ Sakaja ]\\n\\nQuestion from an American\\n\\nh...  1.269599e+18   \n",
       "324615  Just posted a photo @ Adams Arcade - Ngong Roa...  1.339887e+18   \n",
       "324616  You better recognize....\\nOwner: @kemeigabriel...  8.393942e+17   \n",
       "324617  Just posted a photo @ Runda https://t.co/FhGlb...  1.359535e+18   \n",
       "\n",
       "             lat        lon                 created_at  \n",
       "0      -1.290832  36.782992  2018-12-31 15:05:01+00:00  \n",
       "1      -1.283333  36.816667  2018-12-31 15:21:14+00:00  \n",
       "2      -1.283330  36.816700  2018-12-31 15:27:10+00:00  \n",
       "3      -1.283330  36.816700  2018-12-31 15:33:03+00:00  \n",
       "4      -1.269244  36.806866  2018-12-31 15:43:32+00:00  \n",
       "...          ...        ...                        ...  \n",
       "324613 -1.292066  36.821945  2022-06-30 14:38:43+00:00  \n",
       "324614 -1.292066  36.821945  2022-06-30 14:38:43+00:00  \n",
       "324615 -1.300567  36.780725  2022-06-30 14:39:41+00:00  \n",
       "324616 -1.283330  36.816700  2022-06-30 14:54:18+00:00  \n",
       "324617 -1.288986  36.826809  2022-06-30 14:58:13+00:00  \n",
       "\n",
       "[324618 rows x 6 columns]"
      ]
     },
     "execution_count": 3,
     "metadata": {},
     "output_type": "execute_result"
    }
   ],
   "source": [
    "twitters = pd.read_csv('/Users/wenlanzhang/Downloads/PhD_UCL/Data/Twitter/Nairobi_1922/Sum/Clean2_screened_twitters.csv')\n",
    "twitters"
   ]
  },
  {
   "cell_type": "code",
   "execution_count": 5,
   "id": "1600ac57",
   "metadata": {},
   "outputs": [
    {
     "name": "stdout",
     "output_type": "stream",
     "text": [
      "Index(['id', 'text', 'userid', 'lat', 'lon', 'created_at'], dtype='object')\n"
     ]
    }
   ],
   "source": [
    "# print(twitters.dtypes)\n",
    "print(twitters.columns)"
   ]
  },
  {
   "cell_type": "code",
   "execution_count": 7,
   "id": "1c411e55",
   "metadata": {},
   "outputs": [
    {
     "name": "stdout",
     "output_type": "stream",
     "text": [
      "id                          int64\n",
      "text                       object\n",
      "userid                    float64\n",
      "lat                       float64\n",
      "lon                       float64\n",
      "created_at    datetime64[ns, UTC]\n",
      "dtype: object\n"
     ]
    }
   ],
   "source": [
    "twitters['created_at'] = pd.to_datetime(twitters['created_at'])\n",
    "print(twitters.dtypes)"
   ]
  },
  {
   "cell_type": "markdown",
   "id": "e37426f8",
   "metadata": {},
   "source": [
    "## Extract the year, month, date, weekday, and hour information"
   ]
  },
  {
   "cell_type": "code",
   "execution_count": 9,
   "id": "aa58a2de",
   "metadata": {
    "scrolled": true
   },
   "outputs": [
    {
     "data": {
      "text/html": [
       "<div>\n",
       "<style scoped>\n",
       "    .dataframe tbody tr th:only-of-type {\n",
       "        vertical-align: middle;\n",
       "    }\n",
       "\n",
       "    .dataframe tbody tr th {\n",
       "        vertical-align: top;\n",
       "    }\n",
       "\n",
       "    .dataframe thead th {\n",
       "        text-align: right;\n",
       "    }\n",
       "</style>\n",
       "<table border=\"1\" class=\"dataframe\">\n",
       "  <thead>\n",
       "    <tr style=\"text-align: right;\">\n",
       "      <th></th>\n",
       "      <th>id</th>\n",
       "      <th>text</th>\n",
       "      <th>userid</th>\n",
       "      <th>lat</th>\n",
       "      <th>lon</th>\n",
       "      <th>created_at</th>\n",
       "      <th>year</th>\n",
       "      <th>month</th>\n",
       "      <th>day</th>\n",
       "      <th>weekday</th>\n",
       "      <th>hour</th>\n",
       "    </tr>\n",
       "  </thead>\n",
       "  <tbody>\n",
       "    <tr>\n",
       "      <th>0</th>\n",
       "      <td>1079755309281890305</td>\n",
       "      <td>Quick Pose Before The Vibe @KIZAnairobi @ KIZA...</td>\n",
       "      <td>1.498135e+08</td>\n",
       "      <td>-1.290832</td>\n",
       "      <td>36.782992</td>\n",
       "      <td>2018-12-31 15:05:01+00:00</td>\n",
       "      <td>2018</td>\n",
       "      <td>12</td>\n",
       "      <td>31</td>\n",
       "      <td>0</td>\n",
       "      <td>15</td>\n",
       "    </tr>\n",
       "    <tr>\n",
       "      <th>1</th>\n",
       "      <td>1079759392138907649</td>\n",
       "      <td>365/365 \\n#whereveryouare #haveagoodone #beTha...</td>\n",
       "      <td>2.081126e+08</td>\n",
       "      <td>-1.283333</td>\n",
       "      <td>36.816667</td>\n",
       "      <td>2018-12-31 15:21:14+00:00</td>\n",
       "      <td>2018</td>\n",
       "      <td>12</td>\n",
       "      <td>31</td>\n",
       "      <td>0</td>\n",
       "      <td>15</td>\n",
       "    </tr>\n",
       "    <tr>\n",
       "      <th>2</th>\n",
       "      <td>1079760884526972928</td>\n",
       "      <td>Happy 2019 from us @ Nairobi, Kenya https://t....</td>\n",
       "      <td>5.194952e+07</td>\n",
       "      <td>-1.283330</td>\n",
       "      <td>36.816700</td>\n",
       "      <td>2018-12-31 15:27:10+00:00</td>\n",
       "      <td>2018</td>\n",
       "      <td>12</td>\n",
       "      <td>31</td>\n",
       "      <td>0</td>\n",
       "      <td>15</td>\n",
       "    </tr>\n",
       "    <tr>\n",
       "      <th>3</th>\n",
       "      <td>1079762365644660736</td>\n",
       "      <td>We ride together, We shine together. @ Nairobi...</td>\n",
       "      <td>8.994097e+07</td>\n",
       "      <td>-1.283330</td>\n",
       "      <td>36.816700</td>\n",
       "      <td>2018-12-31 15:33:03+00:00</td>\n",
       "      <td>2018</td>\n",
       "      <td>12</td>\n",
       "      <td>31</td>\n",
       "      <td>0</td>\n",
       "      <td>15</td>\n",
       "    </tr>\n",
       "    <tr>\n",
       "      <th>4</th>\n",
       "      <td>1079765001454477312</td>\n",
       "      <td>We set to usher in the new year 2019 in style ...</td>\n",
       "      <td>2.729705e+08</td>\n",
       "      <td>-1.269244</td>\n",
       "      <td>36.806866</td>\n",
       "      <td>2018-12-31 15:43:32+00:00</td>\n",
       "      <td>2018</td>\n",
       "      <td>12</td>\n",
       "      <td>31</td>\n",
       "      <td>0</td>\n",
       "      <td>15</td>\n",
       "    </tr>\n",
       "    <tr>\n",
       "      <th>...</th>\n",
       "      <td>...</td>\n",
       "      <td>...</td>\n",
       "      <td>...</td>\n",
       "      <td>...</td>\n",
       "      <td>...</td>\n",
       "      <td>...</td>\n",
       "      <td>...</td>\n",
       "      <td>...</td>\n",
       "      <td>...</td>\n",
       "      <td>...</td>\n",
       "      <td>...</td>\n",
       "    </tr>\n",
       "    <tr>\n",
       "      <th>324613</th>\n",
       "      <td>1542517996685369344</td>\n",
       "      <td>find only Kenyan tea and not a blend. I have o...</td>\n",
       "      <td>1.269599e+18</td>\n",
       "      <td>-1.292066</td>\n",
       "      <td>36.821945</td>\n",
       "      <td>2022-06-30 14:38:43+00:00</td>\n",
       "      <td>2022</td>\n",
       "      <td>6</td>\n",
       "      <td>30</td>\n",
       "      <td>3</td>\n",
       "      <td>14</td>\n",
       "    </tr>\n",
       "    <tr>\n",
       "      <th>324614</th>\n",
       "      <td>1542517994080702464</td>\n",
       "      <td>✦ [ Sakaja ]\\n\\nQuestion from an American\\n\\nh...</td>\n",
       "      <td>1.269599e+18</td>\n",
       "      <td>-1.292066</td>\n",
       "      <td>36.821945</td>\n",
       "      <td>2022-06-30 14:38:43+00:00</td>\n",
       "      <td>2022</td>\n",
       "      <td>6</td>\n",
       "      <td>30</td>\n",
       "      <td>3</td>\n",
       "      <td>14</td>\n",
       "    </tr>\n",
       "    <tr>\n",
       "      <th>324615</th>\n",
       "      <td>1542518238566703108</td>\n",
       "      <td>Just posted a photo @ Adams Arcade - Ngong Roa...</td>\n",
       "      <td>1.339887e+18</td>\n",
       "      <td>-1.300567</td>\n",
       "      <td>36.780725</td>\n",
       "      <td>2022-06-30 14:39:41+00:00</td>\n",
       "      <td>2022</td>\n",
       "      <td>6</td>\n",
       "      <td>30</td>\n",
       "      <td>3</td>\n",
       "      <td>14</td>\n",
       "    </tr>\n",
       "    <tr>\n",
       "      <th>324616</th>\n",
       "      <td>1542521919118770184</td>\n",
       "      <td>You better recognize....\\nOwner: @kemeigabriel...</td>\n",
       "      <td>8.393942e+17</td>\n",
       "      <td>-1.283330</td>\n",
       "      <td>36.816700</td>\n",
       "      <td>2022-06-30 14:54:18+00:00</td>\n",
       "      <td>2022</td>\n",
       "      <td>6</td>\n",
       "      <td>30</td>\n",
       "      <td>3</td>\n",
       "      <td>14</td>\n",
       "    </tr>\n",
       "    <tr>\n",
       "      <th>324617</th>\n",
       "      <td>1542522901357744128</td>\n",
       "      <td>Just posted a photo @ Runda https://t.co/FhGlb...</td>\n",
       "      <td>1.359535e+18</td>\n",
       "      <td>-1.288986</td>\n",
       "      <td>36.826809</td>\n",
       "      <td>2022-06-30 14:58:13+00:00</td>\n",
       "      <td>2022</td>\n",
       "      <td>6</td>\n",
       "      <td>30</td>\n",
       "      <td>3</td>\n",
       "      <td>14</td>\n",
       "    </tr>\n",
       "  </tbody>\n",
       "</table>\n",
       "<p>324618 rows × 11 columns</p>\n",
       "</div>"
      ],
      "text/plain": [
       "                         id  \\\n",
       "0       1079755309281890305   \n",
       "1       1079759392138907649   \n",
       "2       1079760884526972928   \n",
       "3       1079762365644660736   \n",
       "4       1079765001454477312   \n",
       "...                     ...   \n",
       "324613  1542517996685369344   \n",
       "324614  1542517994080702464   \n",
       "324615  1542518238566703108   \n",
       "324616  1542521919118770184   \n",
       "324617  1542522901357744128   \n",
       "\n",
       "                                                     text        userid  \\\n",
       "0       Quick Pose Before The Vibe @KIZAnairobi @ KIZA...  1.498135e+08   \n",
       "1       365/365 \\n#whereveryouare #haveagoodone #beTha...  2.081126e+08   \n",
       "2       Happy 2019 from us @ Nairobi, Kenya https://t....  5.194952e+07   \n",
       "3       We ride together, We shine together. @ Nairobi...  8.994097e+07   \n",
       "4       We set to usher in the new year 2019 in style ...  2.729705e+08   \n",
       "...                                                   ...           ...   \n",
       "324613  find only Kenyan tea and not a blend. I have o...  1.269599e+18   \n",
       "324614  ✦ [ Sakaja ]\\n\\nQuestion from an American\\n\\nh...  1.269599e+18   \n",
       "324615  Just posted a photo @ Adams Arcade - Ngong Roa...  1.339887e+18   \n",
       "324616  You better recognize....\\nOwner: @kemeigabriel...  8.393942e+17   \n",
       "324617  Just posted a photo @ Runda https://t.co/FhGlb...  1.359535e+18   \n",
       "\n",
       "             lat        lon                created_at  year  month  day  \\\n",
       "0      -1.290832  36.782992 2018-12-31 15:05:01+00:00  2018     12   31   \n",
       "1      -1.283333  36.816667 2018-12-31 15:21:14+00:00  2018     12   31   \n",
       "2      -1.283330  36.816700 2018-12-31 15:27:10+00:00  2018     12   31   \n",
       "3      -1.283330  36.816700 2018-12-31 15:33:03+00:00  2018     12   31   \n",
       "4      -1.269244  36.806866 2018-12-31 15:43:32+00:00  2018     12   31   \n",
       "...          ...        ...                       ...   ...    ...  ...   \n",
       "324613 -1.292066  36.821945 2022-06-30 14:38:43+00:00  2022      6   30   \n",
       "324614 -1.292066  36.821945 2022-06-30 14:38:43+00:00  2022      6   30   \n",
       "324615 -1.300567  36.780725 2022-06-30 14:39:41+00:00  2022      6   30   \n",
       "324616 -1.283330  36.816700 2022-06-30 14:54:18+00:00  2022      6   30   \n",
       "324617 -1.288986  36.826809 2022-06-30 14:58:13+00:00  2022      6   30   \n",
       "\n",
       "        weekday  hour  \n",
       "0             0    15  \n",
       "1             0    15  \n",
       "2             0    15  \n",
       "3             0    15  \n",
       "4             0    15  \n",
       "...         ...   ...  \n",
       "324613        3    14  \n",
       "324614        3    14  \n",
       "324615        3    14  \n",
       "324616        3    14  \n",
       "324617        3    14  \n",
       "\n",
       "[324618 rows x 11 columns]"
      ]
     },
     "execution_count": 9,
     "metadata": {},
     "output_type": "execute_result"
    }
   ],
   "source": [
    "# Create new columns for each date-time feature\n",
    "twitters['year'] = twitters['created_at'].dt.year\n",
    "twitters['month'] = twitters['created_at'].dt.month\n",
    "twitters['day'] = twitters['created_at'].dt.day\n",
    "twitters['weekday'] = twitters['created_at'].dt.weekday\n",
    "twitters['hour'] = twitters['created_at'].dt.hour\n",
    "twitters"
   ]
  },
  {
   "cell_type": "code",
   "execution_count": 10,
   "id": "b835add8",
   "metadata": {},
   "outputs": [
    {
     "name": "stdout",
     "output_type": "stream",
     "text": [
      "4    49541\n",
      "3    48846\n",
      "2    48776\n",
      "1    47494\n",
      "0    46959\n",
      "5    43798\n",
      "6    39204\n",
      "Name: weekday, dtype: int64\n"
     ]
    }
   ],
   "source": [
    "print(twitters['weekday'].value_counts())\n",
    "# The day of the week with Monday=0, Sunday=6."
   ]
  },
  {
   "cell_type": "markdown",
   "id": "03038943",
   "metadata": {},
   "source": [
    "## Make histogram"
   ]
  },
  {
   "cell_type": "code",
   "execution_count": 12,
   "id": "d67c4c98",
   "metadata": {},
   "outputs": [],
   "source": [
    "import seaborn as sns\n",
    "import matplotlib.pyplot as plt"
   ]
  },
  {
   "cell_type": "markdown",
   "id": "6218abed",
   "metadata": {},
   "source": [
    "### Year"
   ]
  },
  {
   "cell_type": "code",
   "execution_count": 31,
   "id": "1b855463",
   "metadata": {},
   "outputs": [
    {
     "name": "stdout",
     "output_type": "stream",
     "text": [
      "2019    113082\n",
      "2021     86226\n",
      "2020     81013\n",
      "2022     44145\n",
      "2018       152\n",
      "Name: year, dtype: int64\n"
     ]
    }
   ],
   "source": [
    "print(twitters['year'].value_counts())\n"
   ]
  },
  {
   "cell_type": "code",
   "execution_count": 32,
   "id": "3af72685",
   "metadata": {
    "scrolled": true
   },
   "outputs": [
    {
     "data": {
      "image/png": "[encoded data removed]",
      "text/plain": [
       "<Figure size 500x500 with 1 Axes>"
      ]
     },
     "metadata": {},
     "output_type": "display_data"
    }
   ],
   "source": [
    "# Create a histogram of the 'year' column using seaborn\n",
    "sns.displot(data=twitters, x='year', bins=5)\n",
    "\n",
    "# Add a title and axis labels\n",
    "sns.set_style('darkgrid')\n",
    "plt.title('Histogram of Year Distribution')\n",
    "plt.xlabel('Year')\n",
    "plt.ylabel('Count')\n",
    "\n",
    "# Display the plot\n",
    "plt.show()"
   ]
  },
  {
   "cell_type": "markdown",
   "id": "26d91dcb",
   "metadata": {},
   "source": [
    "### month"
   ]
  },
  {
   "cell_type": "code",
   "execution_count": 33,
   "id": "966de391",
   "metadata": {
    "scrolled": true
   },
   "outputs": [
    {
     "data": {
      "image/png": "[encoded data removed]",
      "text/plain": [
       "<Figure size 500x500 with 1 Axes>"
      ]
     },
     "metadata": {},
     "output_type": "display_data"
    }
   ],
   "source": [
    "sns.displot(data=twitters, x='month', bins=12)\n",
    "\n",
    "# Add a title and axis labels\n",
    "sns.set_style('darkgrid')\n",
    "plt.title('Histogram of Month Distribution')\n",
    "plt.xlabel('Month')\n",
    "plt.ylabel('Count')\n",
    "\n",
    "# Display the plot\n",
    "plt.show()"
   ]
  },
  {
   "cell_type": "markdown",
   "id": "0966881b",
   "metadata": {},
   "source": [
    "### weekday"
   ]
  },
  {
   "cell_type": "code",
   "execution_count": 25,
   "id": "ebc18bdf",
   "metadata": {
    "scrolled": true
   },
   "outputs": [
    {
     "data": {
      "image/png": "[encoded data removed]",
      "text/plain": [
       "<Figure size 500x500 with 1 Axes>"
      ]
     },
     "metadata": {},
     "output_type": "display_data"
    }
   ],
   "source": [
    "# Create a histogram of the 'weekday' column using seaborn\n",
    "\n",
    "# sns.displot(data=twitters, x='weekday', bins=7, binwidth=0.5, color='#4CB391')\n",
    "sns.displot(data=twitters, x='weekday', bins=7)\n",
    "\n",
    "# Add a title and axis labels\n",
    "sns.set_style('darkgrid')\n",
    "plt.title('Histogram of Weekday Distribution')\n",
    "plt.xlabel('Weekday (0=Monday, 6=Sunday)')\n",
    "plt.ylabel('Count')\n",
    "\n",
    "# Display the plot\n",
    "plt.show()"
   ]
  },
  {
   "cell_type": "markdown",
   "id": "03eb54a8",
   "metadata": {},
   "source": [
    "### Hour"
   ]
  },
  {
   "cell_type": "code",
   "execution_count": 59,
   "id": "8853cafc",
   "metadata": {
    "scrolled": true
   },
   "outputs": [
    {
     "data": {
      "image/png": "[encoded data removed]",
      "text/plain": [
       "<Figure size 640x480 with 1 Axes>"
      ]
     },
     "metadata": {},
     "output_type": "display_data"
    }
   ],
   "source": [
    "import matplotlib.pyplot as plt\n",
    "import numpy             as np\n",
    "import seaborn as sns; \n",
    "sns.set(color_codes=True)\n",
    "\n",
    "number_of_bins = 24\n",
    "N, bins, patches = plt.hist(twitters['hour'], number_of_bins, rwidth=0.8)\n",
    "\n",
    "#Define the colors for your pathces (you can write them in any format):\n",
    "colors    = [ \"b\", \"#ffff00\", \"red\"]\n",
    "#Define the ranges of your patches:\n",
    "divisions = [range(9), range(9, 14), range(14, 24)]\n",
    "#If you want to label the regions/divisions:\n",
    "labels    = [\"Blue\", \"Yellow\", \"Red\"]\n",
    "\n",
    "#for each division color the parches according to the specified colors:\n",
    "for d in divisions:\n",
    "    patches[list(d)[0]].set_label(labels[divisions.index(d)])\n",
    "    for i in d:\n",
    "        patches[i].set_color(colors[divisions.index(d)])\n",
    "\n",
    "# Add a title and axis labels\n",
    "sns.set_style('darkgrid')\n",
    "plt.title('Histogram of Hour Distribution')\n",
    "plt.xlabel('Hour')\n",
    "plt.ylabel('Count')\n",
    "\n",
    "# Customize x-axis ticks\n",
    "plt.xticks(range(24), labels=['{}'.format(i) for i in range(24)])\n",
    "\n",
    "# Display the plot\n",
    "# plt.show()\n",
    "\n",
    "\n",
    "plt.savefig('/Users/wenlanzhang/Downloads/PhD_UCL/Data/Twitter/Nairobi_1922/Sum/Fig/hour_histogram.png', dpi=300, bbox_inches='tight')"
   ]
  },
  {
   "cell_type": "code",
   "execution_count": null,
   "id": "8150925d",
   "metadata": {},
   "outputs": [],
   "source": [
    "##### Backup ##### \n",
    "\n",
    "# Create a histogram of the 'hour' column using seaborn\n",
    "sns.histplot(data=twitters, x='hour', bins=24)\n",
    "\n",
    "\n",
    "# Add a title and axis labels\n",
    "sns.set_style('darkgrid')\n",
    "plt.title('Histogram of Hour Distribution')\n",
    "plt.xlabel('Hour')\n",
    "plt.ylabel('Count')\n",
    "\n",
    "# Customize x-axis ticks\n",
    "plt.xticks(range(24), labels=['{}'.format(i) for i in range(24)])\n",
    "\n",
    "# Display the plot\n",
    "plt.show()"
   ]
  }
 ],
 "metadata": {
  "kernelspec": {
   "display_name": "Python 3 (ipykernel)",
   "language": "python",
   "name": "python3"
  },
  "language_info": {
   "codemirror_mode": {
    "name": "ipython",
    "version": 3
   },
   "file_extension": ".py",
   "mimetype": "text/x-python",
   "name": "python",
   "nbconvert_exporter": "python",
   "pygments_lexer": "ipython3",
   "version": "3.9.13"
  },
  "toc": {
   "base_numbering": 1,
   "nav_menu": {},
   "number_sections": true,
   "sideBar": true,
   "skip_h1_title": false,
   "title_cell": "Table of Contents",
   "title_sidebar": "Contents",
   "toc_cell": false,
   "toc_position": {},
   "toc_section_display": true,
   "toc_window_display": true
  }
 },
 "nbformat": 4,
 "nbformat_minor": 5
}
